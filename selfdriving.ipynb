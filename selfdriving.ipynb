{
  "nbformat": 4,
  "nbformat_minor": 0,
  "metadata": {
    "colab": {
      "name": "selfdriving",
      "provenance": [],
      "collapsed_sections": [],
      "include_colab_link": true
    },
    "kernelspec": {
      "name": "python3",
      "display_name": "Python 3"
    },
    "accelerator": "GPU"
  },
  "cells": [
    {
      "cell_type": "markdown",
      "metadata": {
        "id": "view-in-github",
        "colab_type": "text"
      },
      "source": [
        "<a href=\"https://colab.research.google.com/github/naman-mehta/predict_steering_angle/blob/master/selfdriving.ipynb\" target=\"_parent\"><img src=\"https://colab.research.google.com/assets/colab-badge.svg\" alt=\"Open In Colab\"/></a>"
      ]
    },
    {
      "cell_type": "code",
      "metadata": {
        "id": "LZ3zk712pHEg",
        "colab_type": "code",
        "outputId": "233feff8-6856-4138-93d6-ab49cdc68f70",
        "colab": {
          "base_uri": "https://localhost:8080/",
          "height": 54
        }
      },
      "source": [
        "\n",
        "# Install TensorFlow\n",
        "'''try:\n",
        "  # %tensorflow_version only exists in Colab.\n",
        "  %tensorflow_version 2.x\n",
        "except Exception:\n",
        "  pass\n",
        "'''\n",
        "import tensorflow as tf\n",
        "\n",
        "import pathlib\n",
        "from google.colab import drive\n",
        "drive.mount('/content/drive')\n",
        "\n"
      ],
      "execution_count": 0,
      "outputs": [
        {
          "output_type": "stream",
          "text": [
            "Drive already mounted at /content/drive; to attempt to forcibly remount, call drive.mount(\"/content/drive\", force_remount=True).\n"
          ],
          "name": "stdout"
        }
      ]
    },
    {
      "cell_type": "markdown",
      "metadata": {
        "id": "KMrLCi9Bqllm",
        "colab_type": "text"
      },
      "source": [
        "**Mounting Google Drive locally.** \n",
        "I have downloaded the SullyChen's auto pilot dataset from https://github.com/SullyChen/driving-datasets and got it uploaded back unzipped in my google drive."
      ]
    },
    {
      "cell_type": "code",
      "metadata": {
        "id": "-3RcW0Z_Vmvp",
        "colab_type": "code",
        "colab": {}
      },
      "source": [
        "#path to drive /content/drive/My Drive/self_driving\n",
        "with open('/content/drive/My Drive/self_driving/dataset.txt', 'r') as f:\n",
        "  contents=f.read()\n",
        "  print(contents)"
      ],
      "execution_count": 0,
      "outputs": []
    },
    {
      "cell_type": "code",
      "metadata": {
        "id": "bqiZaz_0QSut",
        "colab_type": "code",
        "colab": {}
      },
      "source": [
        "import scipy.misc\n",
        "import random\n",
        "import math\n",
        "\n",
        "xs = []\n",
        "ys = []\n",
        "\n",
        "#points to the end of the last batch\n",
        "train_batch_pointer = 0\n",
        "val_batch_pointer = 0\n",
        "\n",
        "#read data.txt\n",
        "with open(\"/content/drive/My Drive/self_driving/smallset.txt\") as f:\n",
        "    for line in f:\n",
        "        xs.append(\"/content/drive/My Drive/self_driving/\" + line.split()[0])\n",
        "        ys.append(math.radians(float(line.split()[1].split(',')[0])))\n",
        "\n",
        "#get number of images\n",
        "num_images = len(xs)\n",
        "\n",
        "\n",
        "train_xs = xs[:int(len(xs) * 0.8)]\n",
        "train_ys = ys[:int(len(xs) * 0.8)]\n",
        "\n",
        "val_xs = xs[-int(len(xs) * 0.2):]\n",
        "val_ys = ys[-int(len(xs) * 0.2):]\n",
        "\n",
        "num_train_images = len(train_xs)\n",
        "num_val_images = len(val_xs)\n",
        "\n",
        "def LoadTrainBatch(batch_size):\n",
        "    global train_batch_pointer\n",
        "    x_out = []\n",
        "    y_out = []\n",
        "    for i in range(0, batch_size):\n",
        "        x_out.append(scipy.misc.imresize(scipy.misc.imread(train_xs[(train_batch_pointer + i) % num_train_images])[-150:], [66, 200]) / 255.0)\n",
        "        y_out.append([train_ys[(train_batch_pointer + i) % num_train_images]])\n",
        "    train_batch_pointer += batch_size\n",
        "    return x_out, y_out\n",
        "\n",
        "def LoadValBatch(batch_size):\n",
        "    global val_batch_pointer\n",
        "    x_out = []\n",
        "    y_out = []\n",
        "    for i in range(0, batch_size):\n",
        "        x_out.append(scipy.misc.imresize(scipy.misc.imread(val_xs[(val_batch_pointer + i) % num_val_images])[-150:], [66, 200]) / 255.0)\n",
        "        y_out.append([val_ys[(val_batch_pointer + i) % num_val_images]])\n",
        "    val_batch_pointer += batch_size\n",
        "    return x_out, y_out\n"
      ],
      "execution_count": 0,
      "outputs": []
    },
    {
      "cell_type": "markdown",
      "metadata": {
        "id": "eaSiPY45vCY2",
        "colab_type": "text"
      },
      "source": [
        "xs[]- list that will contain the path to the image files.\n",
        "\n",
        "ys[]- list that will be having steering angles converted to radians\n",
        "\n",
        "Data set is split into 80:20 ratio\n",
        "\n",
        "The functions used load one batch of training or validation data"
      ]
    },
    {
      "cell_type": "markdown",
      "metadata": {
        "id": "cS2nu_OE6zs-",
        "colab_type": "text"
      },
      "source": [
        "The model is based on https://arxiv.org/pdf/1604.07316.pdf\n",
        "End to End Learning for Self-Driving Cars by Nvidia"
      ]
    },
    {
      "cell_type": "code",
      "metadata": {
        "id": "M65qRj4i673p",
        "colab_type": "code",
        "colab": {}
      },
      "source": [
        "!pip install tensorflow==1.12.0\n",
        "import tensorflow as tf\n",
        "print(tf.__version__)\n",
        "import scipy\n",
        "\n",
        "def weight_variable(shape):\n",
        "  initial = tf.truncated_normal(shape, stddev=0.1)\n",
        "  return tf.Variable(initial)\n",
        "\n",
        "def bias_variable(shape):\n",
        "  initial = tf.constant(0.1, shape=shape)\n",
        "  return tf.Variable(initial)\n",
        "\n",
        "def conv2d(x, W, stride):\n",
        "  return tf.nn.conv2d(x, W, strides=[1, stride, stride, 1], padding='VALID')\n",
        "\n",
        "x = tf.placeholder(tf.float32, shape=[None, 66, 200, 3])\n",
        "y_ = tf.placeholder(tf.float32, shape=[None, 1])\n",
        "\n",
        "x_image = x\n",
        "\n",
        "#first convolutional layer\n",
        "W_conv1 = weight_variable([5, 5, 3, 24])\n",
        "b_conv1 = bias_variable([24])\n",
        "\n",
        "h_conv1 = tf.nn.relu(conv2d(x_image, W_conv1, 2) + b_conv1)\n",
        "\n",
        "#second convolutional layer\n",
        "W_conv2 = weight_variable([5, 5, 24, 36])\n",
        "b_conv2 = bias_variable([36])\n",
        "\n",
        "h_conv2 = tf.nn.relu(conv2d(h_conv1, W_conv2, 2) + b_conv2)\n",
        "\n",
        "#third convolutional layer\n",
        "W_conv3 = weight_variable([5, 5, 36, 48])\n",
        "b_conv3 = bias_variable([48])\n",
        "\n",
        "h_conv3 = tf.nn.relu(conv2d(h_conv2, W_conv3, 2) + b_conv3)\n",
        "\n",
        "#fourth convolutional layer\n",
        "W_conv4 = weight_variable([3, 3, 48, 64])\n",
        "b_conv4 = bias_variable([64])\n",
        "\n",
        "h_conv4 = tf.nn.relu(conv2d(h_conv3, W_conv4, 1) + b_conv4)\n",
        "\n",
        "#fifth convolutional layer\n",
        "W_conv5 = weight_variable([3, 3, 64, 64])\n",
        "b_conv5 = bias_variable([64])\n",
        "\n",
        "h_conv5 = tf.nn.relu(conv2d(h_conv4, W_conv5, 1) + b_conv5)\n",
        "\n",
        "#FCL 1\n",
        "W_fc1 = weight_variable([1152, 1164])\n",
        "b_fc1 = bias_variable([1164])\n",
        "\n",
        "h_conv5_flat = tf.reshape(h_conv5, [-1, 1152])\n",
        "h_fc1 = tf.nn.relu(tf.matmul(h_conv5_flat, W_fc1) + b_fc1)\n",
        "\n",
        "keep_prob = tf.placeholder(tf.float32)\n",
        "h_fc1_drop = tf.nn.dropout(h_fc1, keep_prob)\n",
        "\n",
        "#FCL 2\n",
        "W_fc2 = weight_variable([1164, 100])\n",
        "b_fc2 = bias_variable([100])\n",
        "\n",
        "h_fc2 = tf.nn.relu(tf.matmul(h_fc1_drop, W_fc2) + b_fc2)\n",
        "\n",
        "h_fc2_drop = tf.nn.dropout(h_fc2, keep_prob)\n",
        "\n",
        "#FCL 3\n",
        "W_fc3 = weight_variable([100, 50])\n",
        "b_fc3 = bias_variable([50])\n",
        "\n",
        "h_fc3 = tf.nn.relu(tf.matmul(h_fc2_drop, W_fc3) + b_fc3)\n",
        "\n",
        "h_fc3_drop = tf.nn.dropout(h_fc3, keep_prob)\n",
        "\n",
        "#FCL 3\n",
        "W_fc4 = weight_variable([50, 10])\n",
        "b_fc4 = bias_variable([10])\n",
        "\n",
        "h_fc4 = tf.nn.relu(tf.matmul(h_fc3_drop, W_fc4) + b_fc4)\n",
        "\n",
        "h_fc4_drop = tf.nn.dropout(h_fc4, keep_prob)\n",
        "\n",
        "#Output\n",
        "W_fc5 = weight_variable([10, 1])\n",
        "b_fc5 = bias_variable([1])\n",
        "\n",
        "y = tf.multiply(tf.atan(tf.matmul(h_fc4_drop, W_fc5) + b_fc5), 2) #scale the atan output"
      ],
      "execution_count": 0,
      "outputs": []
    },
    {
      "cell_type": "code",
      "metadata": {
        "id": "7FFh9VG3_A6B",
        "colab_type": "code",
        "colab": {}
      },
      "source": [
        "import os\n",
        "import tensorflow as tf\n",
        "from tensorflow.core.protobuf import saver_pb2\n",
        "\n",
        "\n",
        "LOGDIR = './save'\n",
        "\n",
        "sess = tf.InteractiveSession()\n",
        "\n",
        "L2NormConst = 0.001\n",
        "\n",
        "train_vars = tf.trainable_variables()\n",
        "\n",
        "loss = tf.reduce_mean(tf.square(tf.subtract(y_, y))) + tf.add_n([tf.nn.l2_loss(v) for v in train_vars]) * L2NormConst\n",
        "train_step = tf.train.AdamOptimizer(1e-4).minimize(loss)\n",
        "sess.run(tf.initialize_all_variables())\n",
        "\n",
        "# create a summary to monitor cost tensor\n",
        "tf.summary.scalar(\"loss\", loss)\n",
        "# merge all summaries into a single op\n",
        "merged_summary_op =  tf.summary.merge_all()\n",
        "\n",
        "saver = tf.train.Saver(write_version = saver_pb2.SaverDef.V1)\n",
        "\n",
        "# op to write logs to Tensorboard\n",
        "logs_path = './logs'\n",
        "summary_writer = tf.summary.FileWriter(logs_path, graph=tf.get_default_graph())\n",
        "\n",
        "epochs = 30\n",
        "batch_size = 100\n",
        "\n",
        "# train over the dataset about 30 times\n",
        "for epoch in range(epochs):\n",
        "  for i in range(int(num_images/batch_size)):\n",
        "    xs, ys = LoadTrainBatch(batch_size)\n",
        "    train_step.run(feed_dict={x: xs, y_: ys,keep_prob: 0.8})\n",
        "    if i % 10 == 0:\n",
        "      xs, ys = LoadValBatch(batch_size)\n",
        "      loss_value = loss.eval(feed_dict={x:xs, y_: ys, keep_prob: 1.0})\n",
        "      print(\"Epoch: %d, Step: %d, Loss: %g\" % (epoch, epoch * batch_size + i, loss_value))\n",
        "\n",
        "    # write logs at every iteration\n",
        "    summary = merged_summary_op.eval(feed_dict={x:xs,y_: ys,keep_prob: 1.0})\n",
        "    summary_writer.add_summary(summary, epoch * num_images/batch_size + i)\n",
        "\n",
        "    if i % batch_size == 0:\n",
        "      if not os.path.exists(LOGDIR):\n",
        "        os.makedirs(LOGDIR)\n",
        "      checkpoint_path = os.path.join(LOGDIR, \"model.ckpt\")\n",
        "      filename = saver.save(sess, checkpoint_path)\n",
        "  print(\"Model saved in file: %s\" % filename)\n"
      ],
      "execution_count": 0,
      "outputs": []
    }
  ]
}