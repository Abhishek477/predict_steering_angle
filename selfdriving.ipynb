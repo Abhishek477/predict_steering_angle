{
  "nbformat": 4,
  "nbformat_minor": 0,
  "metadata": {
    "colab": {
      "name": "selfdriving",
      "provenance": [],
      "collapsed_sections": [],
      "include_colab_link": true
    },
    "kernelspec": {
      "name": "python3",
      "display_name": "Python 3"
    },
    "accelerator": "GPU"
  },
  "cells": [
    {
      "cell_type": "markdown",
      "metadata": {
        "id": "view-in-github",
        "colab_type": "text"
      },
      "source": [
        "<a href=\"https://colab.research.google.com/github/naman-mehta/hellp/blob/master/selfdriving.ipynb\" target=\"_parent\"><img src=\"https://colab.research.google.com/assets/colab-badge.svg\" alt=\"Open In Colab\"/></a>"
      ]
    },
    {
      "cell_type": "code",
      "metadata": {
        "id": "LZ3zk712pHEg",
        "colab_type": "code",
        "outputId": "233feff8-6856-4138-93d6-ab49cdc68f70",
        "colab": {
          "base_uri": "https://localhost:8080/",
          "height": 54
        }
      },
      "source": [
        "\n",
        "# Install TensorFlow\n",
        "'''try:\n",
        "  # %tensorflow_version only exists in Colab.\n",
        "  %tensorflow_version 2.x\n",
        "except Exception:\n",
        "  pass\n",
        "'''\n",
        "import tensorflow as tf\n",
        "\n",
        "import pathlib\n",
        "from google.colab import drive\n",
        "drive.mount('/content/drive')\n",
        "\n"
      ],
      "execution_count": 0,
      "outputs": [
        {
          "output_type": "stream",
          "text": [
            "Drive already mounted at /content/drive; to attempt to forcibly remount, call drive.mount(\"/content/drive\", force_remount=True).\n"
          ],
          "name": "stdout"
        }
      ]
    },
    {
      "cell_type": "markdown",
      "metadata": {
        "id": "KMrLCi9Bqllm",
        "colab_type": "text"
      },
      "source": [
        "**Mounting Google Drive locally.** \n",
        "I have downloaded the SullyChen's auto pilot dataset from https://github.com/SullyChen/driving-datasets and got it uploaded back unzipped in my google drive."
      ]
    },
    {
      "cell_type": "code",
      "metadata": {
        "id": "-3RcW0Z_Vmvp",
        "colab_type": "code",
        "colab": {}
      },
      "source": [
        "#path to drive /content/drive/My Drive/self_driving\n",
        "with open('/content/drive/My Drive/self_driving/dataset.txt', 'r') as f:\n",
        "  contents=f.read()\n",
        "  print(contents)"
      ],
      "execution_count": 0,
      "outputs": []
    },
    {
      "cell_type": "code",
      "metadata": {
        "id": "bqiZaz_0QSut",
        "colab_type": "code",
        "colab": {}
      },
      "source": [
        "import scipy.misc\n",
        "import random\n",
        "import math\n",
        "\n",
        "xs = []\n",
        "ys = []\n",
        "\n",
        "#points to the end of the last batch\n",
        "train_batch_pointer = 0\n",
        "val_batch_pointer = 0\n",
        "\n",
        "#read data.txt\n",
        "with open(\"/content/drive/My Drive/self_driving/smallset.txt\") as f:\n",
        "    for line in f:\n",
        "        xs.append(\"/content/drive/My Drive/self_driving/\" + line.split()[0])\n",
        "        ys.append(math.radians(float(line.split()[1].split(',')[0])))\n",
        "\n",
        "#get number of images\n",
        "num_images = len(xs)\n",
        "\n",
        "\n",
        "train_xs = xs[:int(len(xs) * 0.8)]\n",
        "train_ys = ys[:int(len(xs) * 0.8)]\n",
        "\n",
        "val_xs = xs[-int(len(xs) * 0.2):]\n",
        "val_ys = ys[-int(len(xs) * 0.2):]\n",
        "\n",
        "num_train_images = len(train_xs)\n",
        "num_val_images = len(val_xs)\n",
        "\n",
        "def LoadTrainBatch(batch_size):\n",
        "    global train_batch_pointer\n",
        "    x_out = []\n",
        "    y_out = []\n",
        "    for i in range(0, batch_size):\n",
        "        x_out.append(scipy.misc.imresize(scipy.misc.imread(train_xs[(train_batch_pointer + i) % num_train_images])[-150:], [66, 200]) / 255.0)\n",
        "        y_out.append([train_ys[(train_batch_pointer + i) % num_train_images]])\n",
        "    train_batch_pointer += batch_size\n",
        "    return x_out, y_out\n",
        "\n",
        "def LoadValBatch(batch_size):\n",
        "    global val_batch_pointer\n",
        "    x_out = []\n",
        "    y_out = []\n",
        "    for i in range(0, batch_size):\n",
        "        x_out.append(scipy.misc.imresize(scipy.misc.imread(val_xs[(val_batch_pointer + i) % num_val_images])[-150:], [66, 200]) / 255.0)\n",
        "        y_out.append([val_ys[(val_batch_pointer + i) % num_val_images]])\n",
        "    val_batch_pointer += batch_size\n",
        "    return x_out, y_out\n"
      ],
      "execution_count": 0,
      "outputs": []
    },
    {
      "cell_type": "markdown",
      "metadata": {
        "id": "eaSiPY45vCY2",
        "colab_type": "text"
      },
      "source": [
        "xs[]- list that will contain the path to the image files.\n",
        "\n",
        "ys[]- list that will be having steering angles converted to radians\n",
        "\n",
        "Data set is split into 80:20 ratio\n",
        "\n",
        "The functions used load one batch of training or validation data"
      ]
    },
    {
      "cell_type": "markdown",
      "metadata": {
        "id": "cS2nu_OE6zs-",
        "colab_type": "text"
      },
      "source": [
        "The model is based on https://arxiv.org/pdf/1604.07316.pdf\n",
        "End to End Learning for Self-Driving Cars by Nvidia"
      ]
    },
    {
      "cell_type": "code",
      "metadata": {
        "id": "M65qRj4i673p",
        "colab_type": "code",
        "outputId": "47b81ed8-86ab-4da9-92d5-0bb02aefd532",
        "colab": {
          "base_uri": "https://localhost:8080/",
          "height": 346
        }
      },
      "source": [
        "!pip install tensorflow==1.12.0\n",
        "import tensorflow as tf\n",
        "print(tf.__version__)\n",
        "import scipy\n",
        "\n",
        "def weight_variable(shape):\n",
        "  initial = tf.truncated_normal(shape, stddev=0.1)\n",
        "  return tf.Variable(initial)\n",
        "\n",
        "def bias_variable(shape):\n",
        "  initial = tf.constant(0.1, shape=shape)\n",
        "  return tf.Variable(initial)\n",
        "\n",
        "def conv2d(x, W, stride):\n",
        "  return tf.nn.conv2d(x, W, strides=[1, stride, stride, 1], padding='VALID')\n",
        "\n",
        "x = tf.placeholder(tf.float32, shape=[None, 66, 200, 3])\n",
        "y_ = tf.placeholder(tf.float32, shape=[None, 1])\n",
        "\n",
        "x_image = x\n",
        "\n",
        "#first convolutional layer\n",
        "W_conv1 = weight_variable([5, 5, 3, 24])\n",
        "b_conv1 = bias_variable([24])\n",
        "\n",
        "h_conv1 = tf.nn.relu(conv2d(x_image, W_conv1, 2) + b_conv1)\n",
        "\n",
        "#second convolutional layer\n",
        "W_conv2 = weight_variable([5, 5, 24, 36])\n",
        "b_conv2 = bias_variable([36])\n",
        "\n",
        "h_conv2 = tf.nn.relu(conv2d(h_conv1, W_conv2, 2) + b_conv2)\n",
        "\n",
        "#third convolutional layer\n",
        "W_conv3 = weight_variable([5, 5, 36, 48])\n",
        "b_conv3 = bias_variable([48])\n",
        "\n",
        "h_conv3 = tf.nn.relu(conv2d(h_conv2, W_conv3, 2) + b_conv3)\n",
        "\n",
        "#fourth convolutional layer\n",
        "W_conv4 = weight_variable([3, 3, 48, 64])\n",
        "b_conv4 = bias_variable([64])\n",
        "\n",
        "h_conv4 = tf.nn.relu(conv2d(h_conv3, W_conv4, 1) + b_conv4)\n",
        "\n",
        "#fifth convolutional layer\n",
        "W_conv5 = weight_variable([3, 3, 64, 64])\n",
        "b_conv5 = bias_variable([64])\n",
        "\n",
        "h_conv5 = tf.nn.relu(conv2d(h_conv4, W_conv5, 1) + b_conv5)\n",
        "\n",
        "#FCL 1\n",
        "W_fc1 = weight_variable([1152, 1164])\n",
        "b_fc1 = bias_variable([1164])\n",
        "\n",
        "h_conv5_flat = tf.reshape(h_conv5, [-1, 1152])\n",
        "h_fc1 = tf.nn.relu(tf.matmul(h_conv5_flat, W_fc1) + b_fc1)\n",
        "\n",
        "keep_prob = tf.placeholder(tf.float32)\n",
        "h_fc1_drop = tf.nn.dropout(h_fc1, keep_prob)\n",
        "\n",
        "#FCL 2\n",
        "W_fc2 = weight_variable([1164, 100])\n",
        "b_fc2 = bias_variable([100])\n",
        "\n",
        "h_fc2 = tf.nn.relu(tf.matmul(h_fc1_drop, W_fc2) + b_fc2)\n",
        "\n",
        "h_fc2_drop = tf.nn.dropout(h_fc2, keep_prob)\n",
        "\n",
        "#FCL 3\n",
        "W_fc3 = weight_variable([100, 50])\n",
        "b_fc3 = bias_variable([50])\n",
        "\n",
        "h_fc3 = tf.nn.relu(tf.matmul(h_fc2_drop, W_fc3) + b_fc3)\n",
        "\n",
        "h_fc3_drop = tf.nn.dropout(h_fc3, keep_prob)\n",
        "\n",
        "#FCL 3\n",
        "W_fc4 = weight_variable([50, 10])\n",
        "b_fc4 = bias_variable([10])\n",
        "\n",
        "h_fc4 = tf.nn.relu(tf.matmul(h_fc3_drop, W_fc4) + b_fc4)\n",
        "\n",
        "h_fc4_drop = tf.nn.dropout(h_fc4, keep_prob)\n",
        "\n",
        "#Output\n",
        "W_fc5 = weight_variable([10, 1])\n",
        "b_fc5 = bias_variable([1])\n",
        "\n",
        "y = tf.multiply(tf.atan(tf.matmul(h_fc4_drop, W_fc5) + b_fc5), 2) #scale the atan output"
      ],
      "execution_count": 0,
      "outputs": [
        {
          "output_type": "stream",
          "text": [
            "Requirement already satisfied: tensorflow==1.12.0 in /usr/local/lib/python3.6/dist-packages (1.12.0)\n",
            "Requirement already satisfied: grpcio>=1.8.6 in /usr/local/lib/python3.6/dist-packages (from tensorflow==1.12.0) (1.15.0)\n",
            "Requirement already satisfied: tensorboard<1.13.0,>=1.12.0 in /usr/local/lib/python3.6/dist-packages (from tensorflow==1.12.0) (1.12.2)\n",
            "Requirement already satisfied: astor>=0.6.0 in /usr/local/lib/python3.6/dist-packages (from tensorflow==1.12.0) (0.8.0)\n",
            "Requirement already satisfied: wheel>=0.26 in /usr/local/lib/python3.6/dist-packages (from tensorflow==1.12.0) (0.33.6)\n",
            "Requirement already satisfied: keras-preprocessing>=1.0.5 in /usr/local/lib/python3.6/dist-packages (from tensorflow==1.12.0) (1.1.0)\n",
            "Requirement already satisfied: gast>=0.2.0 in /usr/local/lib/python3.6/dist-packages (from tensorflow==1.12.0) (0.2.2)\n",
            "Requirement already satisfied: keras-applications>=1.0.6 in /usr/local/lib/python3.6/dist-packages (from tensorflow==1.12.0) (1.0.8)\n",
            "Requirement already satisfied: numpy>=1.13.3 in /usr/local/lib/python3.6/dist-packages (from tensorflow==1.12.0) (1.16.5)\n",
            "Requirement already satisfied: protobuf>=3.6.1 in /usr/local/lib/python3.6/dist-packages (from tensorflow==1.12.0) (3.7.1)\n",
            "Requirement already satisfied: absl-py>=0.1.6 in /usr/local/lib/python3.6/dist-packages (from tensorflow==1.12.0) (0.8.0)\n",
            "Requirement already satisfied: six>=1.10.0 in /usr/local/lib/python3.6/dist-packages (from tensorflow==1.12.0) (1.12.0)\n",
            "Requirement already satisfied: termcolor>=1.1.0 in /usr/local/lib/python3.6/dist-packages (from tensorflow==1.12.0) (1.1.0)\n",
            "Requirement already satisfied: werkzeug>=0.11.10 in /usr/local/lib/python3.6/dist-packages (from tensorboard<1.13.0,>=1.12.0->tensorflow==1.12.0) (0.15.6)\n",
            "Requirement already satisfied: markdown>=2.6.8 in /usr/local/lib/python3.6/dist-packages (from tensorboard<1.13.0,>=1.12.0->tensorflow==1.12.0) (3.1.1)\n",
            "Requirement already satisfied: h5py in /usr/local/lib/python3.6/dist-packages (from keras-applications>=1.0.6->tensorflow==1.12.0) (2.8.0)\n",
            "Requirement already satisfied: setuptools in /usr/local/lib/python3.6/dist-packages (from protobuf>=3.6.1->tensorflow==1.12.0) (41.2.0)\n",
            "1.12.0\n"
          ],
          "name": "stdout"
        }
      ]
    },
    {
      "cell_type": "code",
      "metadata": {
        "id": "7FFh9VG3_A6B",
        "colab_type": "code",
        "outputId": "871011c6-8faa-41a9-e517-d3fa5b2f1ea6",
        "colab": {
          "base_uri": "https://localhost:8080/",
          "height": 407
        }
      },
      "source": [
        "import os\n",
        "import tensorflow as tf\n",
        "from tensorflow.core.protobuf import saver_pb2\n",
        "\n",
        "\n",
        "LOGDIR = './save'\n",
        "\n",
        "sess = tf.InteractiveSession()\n",
        "\n",
        "L2NormConst = 0.001\n",
        "\n",
        "train_vars = tf.trainable_variables()\n",
        "\n",
        "loss = tf.reduce_mean(tf.square(tf.subtract(y_, y))) + tf.add_n([tf.nn.l2_loss(v) for v in train_vars]) * L2NormConst\n",
        "train_step = tf.train.AdamOptimizer(1e-4).minimize(loss)\n",
        "sess.run(tf.initialize_all_variables())\n",
        "\n",
        "# create a summary to monitor cost tensor\n",
        "tf.summary.scalar(\"loss\", loss)\n",
        "# merge all summaries into a single op\n",
        "merged_summary_op =  tf.summary.merge_all()\n",
        "\n",
        "saver = tf.train.Saver(write_version = saver_pb2.SaverDef.V1)\n",
        "\n",
        "# op to write logs to Tensorboard\n",
        "logs_path = './logs'\n",
        "summary_writer = tf.summary.FileWriter(logs_path, graph=tf.get_default_graph())\n",
        "\n",
        "epochs = 30\n",
        "batch_size = 100\n",
        "\n",
        "# train over the dataset about 30 times\n",
        "for epoch in range(epochs):\n",
        "  for i in range(int(num_images/batch_size)):\n",
        "    xs, ys = LoadTrainBatch(batch_size)\n",
        "    train_step.run(feed_dict={x: xs, y_: ys,keep_prob: 0.8})\n",
        "    if i % 10 == 0:\n",
        "      xs, ys = LoadValBatch(batch_size)\n",
        "      loss_value = loss.eval(feed_dict={x:xs, y_: ys, keep_prob: 1.0})\n",
        "      print(\"Epoch: %d, Step: %d, Loss: %g\" % (epoch, epoch * batch_size + i, loss_value))\n",
        "\n",
        "    # write logs at every iteration\n",
        "    summary = merged_summary_op.eval(feed_dict={x:xs,y_: ys,keep_prob: 1.0})\n",
        "    summary_writer.add_summary(summary, epoch * num_images/batch_size + i)\n",
        "\n",
        "    if i % batch_size == 0:\n",
        "      if not os.path.exists(LOGDIR):\n",
        "        os.makedirs(LOGDIR)\n",
        "      checkpoint_path = os.path.join(LOGDIR, \"model.ckpt\")\n",
        "      filename = saver.save(sess, checkpoint_path)\n",
        "  print(\"Model saved in file: %s\" % filename)\n"
      ],
      "execution_count": 0,
      "outputs": [
        {
          "output_type": "stream",
          "text": [
            "/usr/local/lib/python3.6/dist-packages/tensorflow/python/client/session.py:1702: UserWarning: An interactive session is already active. This can cause out-of-memory errors in some cases. You must explicitly call `InteractiveSession.close()` to release resources held by the other session(s).\n",
            "  warnings.warn('An interactive session is already active. This can '\n"
          ],
          "name": "stderr"
        },
        {
          "output_type": "error",
          "ename": "AttributeError",
          "evalue": "ignored",
          "traceback": [
            "\u001b[0;31m---------------------------------------------------------------------------\u001b[0m",
            "\u001b[0;31mAttributeError\u001b[0m                            Traceback (most recent call last)",
            "\u001b[0;32m<ipython-input-8-3811dce1cc1e>\u001b[0m in \u001b[0;36m<module>\u001b[0;34m()\u001b[0m\n\u001b[1;32m     33\u001b[0m \u001b[0;32mfor\u001b[0m \u001b[0mepoch\u001b[0m \u001b[0;32min\u001b[0m \u001b[0mrange\u001b[0m\u001b[0;34m(\u001b[0m\u001b[0mepochs\u001b[0m\u001b[0;34m)\u001b[0m\u001b[0;34m:\u001b[0m\u001b[0;34m\u001b[0m\u001b[0;34m\u001b[0m\u001b[0m\n\u001b[1;32m     34\u001b[0m   \u001b[0;32mfor\u001b[0m \u001b[0mi\u001b[0m \u001b[0;32min\u001b[0m \u001b[0mrange\u001b[0m\u001b[0;34m(\u001b[0m\u001b[0mint\u001b[0m\u001b[0;34m(\u001b[0m\u001b[0mnum_images\u001b[0m\u001b[0;34m/\u001b[0m\u001b[0mbatch_size\u001b[0m\u001b[0;34m)\u001b[0m\u001b[0;34m)\u001b[0m\u001b[0;34m:\u001b[0m\u001b[0;34m\u001b[0m\u001b[0;34m\u001b[0m\u001b[0m\n\u001b[0;32m---> 35\u001b[0;31m     \u001b[0mxs\u001b[0m\u001b[0;34m,\u001b[0m \u001b[0mys\u001b[0m \u001b[0;34m=\u001b[0m \u001b[0mLoadTrainBatch\u001b[0m\u001b[0;34m(\u001b[0m\u001b[0mbatch_size\u001b[0m\u001b[0;34m)\u001b[0m\u001b[0;34m\u001b[0m\u001b[0;34m\u001b[0m\u001b[0m\n\u001b[0m\u001b[1;32m     36\u001b[0m     \u001b[0mtrain_step\u001b[0m\u001b[0;34m.\u001b[0m\u001b[0mrun\u001b[0m\u001b[0;34m(\u001b[0m\u001b[0mfeed_dict\u001b[0m\u001b[0;34m=\u001b[0m\u001b[0;34m{\u001b[0m\u001b[0mx\u001b[0m\u001b[0;34m:\u001b[0m \u001b[0mxs\u001b[0m\u001b[0;34m,\u001b[0m \u001b[0my_\u001b[0m\u001b[0;34m:\u001b[0m \u001b[0mys\u001b[0m\u001b[0;34m,\u001b[0m\u001b[0mkeep_prob\u001b[0m\u001b[0;34m:\u001b[0m \u001b[0;36m0.8\u001b[0m\u001b[0;34m}\u001b[0m\u001b[0;34m)\u001b[0m\u001b[0;34m\u001b[0m\u001b[0;34m\u001b[0m\u001b[0m\n\u001b[1;32m     37\u001b[0m     \u001b[0;32mif\u001b[0m \u001b[0mi\u001b[0m \u001b[0;34m%\u001b[0m \u001b[0;36m10\u001b[0m \u001b[0;34m==\u001b[0m \u001b[0;36m0\u001b[0m\u001b[0;34m:\u001b[0m\u001b[0;34m\u001b[0m\u001b[0;34m\u001b[0m\u001b[0m\n",
            "\u001b[0;32m<ipython-input-6-19b08ae33f06>\u001b[0m in \u001b[0;36mLoadTrainBatch\u001b[0;34m(batch_size)\u001b[0m\n\u001b[1;32m     34\u001b[0m     \u001b[0my_out\u001b[0m \u001b[0;34m=\u001b[0m \u001b[0;34m[\u001b[0m\u001b[0;34m]\u001b[0m\u001b[0;34m\u001b[0m\u001b[0;34m\u001b[0m\u001b[0m\n\u001b[1;32m     35\u001b[0m     \u001b[0;32mfor\u001b[0m \u001b[0mi\u001b[0m \u001b[0;32min\u001b[0m \u001b[0mrange\u001b[0m\u001b[0;34m(\u001b[0m\u001b[0;36m0\u001b[0m\u001b[0;34m,\u001b[0m \u001b[0mbatch_size\u001b[0m\u001b[0;34m)\u001b[0m\u001b[0;34m:\u001b[0m\u001b[0;34m\u001b[0m\u001b[0;34m\u001b[0m\u001b[0m\n\u001b[0;32m---> 36\u001b[0;31m         \u001b[0mx_out\u001b[0m\u001b[0;34m.\u001b[0m\u001b[0mappend\u001b[0m\u001b[0;34m(\u001b[0m\u001b[0mscipy\u001b[0m\u001b[0;34m.\u001b[0m\u001b[0mmisc\u001b[0m\u001b[0;34m.\u001b[0m\u001b[0mimresize\u001b[0m\u001b[0;34m(\u001b[0m\u001b[0mscipy\u001b[0m\u001b[0;34m.\u001b[0m\u001b[0mmisc\u001b[0m\u001b[0;34m.\u001b[0m\u001b[0mimread\u001b[0m\u001b[0;34m(\u001b[0m\u001b[0mtrain_xs\u001b[0m\u001b[0;34m[\u001b[0m\u001b[0;34m(\u001b[0m\u001b[0mtrain_batch_pointer\u001b[0m \u001b[0;34m+\u001b[0m \u001b[0mi\u001b[0m\u001b[0;34m)\u001b[0m \u001b[0;34m%\u001b[0m \u001b[0mnum_train_images\u001b[0m\u001b[0;34m]\u001b[0m\u001b[0;34m)\u001b[0m\u001b[0;34m[\u001b[0m\u001b[0;34m-\u001b[0m\u001b[0;36m150\u001b[0m\u001b[0;34m:\u001b[0m\u001b[0;34m]\u001b[0m\u001b[0;34m,\u001b[0m \u001b[0;34m[\u001b[0m\u001b[0;36m66\u001b[0m\u001b[0;34m,\u001b[0m \u001b[0;36m200\u001b[0m\u001b[0;34m]\u001b[0m\u001b[0;34m)\u001b[0m \u001b[0;34m/\u001b[0m \u001b[0;36m255.0\u001b[0m\u001b[0;34m)\u001b[0m\u001b[0;34m\u001b[0m\u001b[0;34m\u001b[0m\u001b[0m\n\u001b[0m\u001b[1;32m     37\u001b[0m         \u001b[0my_out\u001b[0m\u001b[0;34m.\u001b[0m\u001b[0mappend\u001b[0m\u001b[0;34m(\u001b[0m\u001b[0;34m[\u001b[0m\u001b[0mtrain_ys\u001b[0m\u001b[0;34m[\u001b[0m\u001b[0;34m(\u001b[0m\u001b[0mtrain_batch_pointer\u001b[0m \u001b[0;34m+\u001b[0m \u001b[0mi\u001b[0m\u001b[0;34m)\u001b[0m \u001b[0;34m%\u001b[0m \u001b[0mnum_train_images\u001b[0m\u001b[0;34m]\u001b[0m\u001b[0;34m]\u001b[0m\u001b[0;34m)\u001b[0m\u001b[0;34m\u001b[0m\u001b[0;34m\u001b[0m\u001b[0m\n\u001b[1;32m     38\u001b[0m     \u001b[0mtrain_batch_pointer\u001b[0m \u001b[0;34m+=\u001b[0m \u001b[0mbatch_size\u001b[0m\u001b[0;34m\u001b[0m\u001b[0;34m\u001b[0m\u001b[0m\n",
            "\u001b[0;31mAttributeError\u001b[0m: module 'scipy.misc' has no attribute 'imresize'"
          ]
        }
      ]
    },
    {
      "cell_type": "code",
      "metadata": {
        "id": "K7zVtYm5AKFN",
        "colab_type": "code",
        "colab": {}
      },
      "source": [
        "#pip3 install opencv-python\n",
        "\n",
        "import tensorflow as tf\n",
        "import scipy.misc\n",
        "import model\n",
        "import cv2\n",
        "from subprocess import call\n",
        "import math\n",
        "\n",
        "sess = tf.InteractiveSession()\n",
        "saver = tf.train.Saver()\n",
        "saver.restore(sess, \"save/model.ckpt\")\n",
        "\n",
        "img = cv2.imread('steering_wheel_image.jpg',0)\n",
        "rows,cols = img.shape\n",
        "\n",
        "smoothed_angle = 0\n",
        "\n",
        "\n",
        "#read data.txt\n",
        "xs = []\n",
        "ys = []\n",
        "with open(\"driving_dataset/data.txt\") as f:\n",
        "    for line in f:\n",
        "        xs.append(\"driving_dataset/\" + line.split()[0])\n",
        "        #the paper by Nvidia uses the inverse of the turning radius,\n",
        "        #but steering wheel angle is proportional to the inverse of turning radius\n",
        "        #so the steering wheel angle in radians is used as the output\n",
        "        ys.append(float(line.split()[1]) * scipy.pi / 180)\n",
        "\n",
        "#get number of images\n",
        "num_images = len(xs)\n",
        "\n",
        "\n",
        "i = math.ceil(num_images*0.8)\n",
        "print(\"Starting frameofvideo:\" +str(i))\n",
        "\n",
        "while(cv2.waitKey(10) != ord('q')):\n",
        "    full_image = scipy.misc.imread(\"driving_dataset/\" + str(i) + \".jpg\", mode=\"RGB\")\n",
        "    image = scipy.misc.imresize(full_image[-150:], [66, 200]) / 255.0\n",
        "    degrees = model.y.eval(feed_dict={model.x: [image], model.keep_prob: 1.0})[0][0] * 180.0 / scipy.pi\n",
        "    #call(\"clear\")\n",
        "    #print(\"Predicted Steering angle: \" + str(degrees))\n",
        "    print(\"Steering angle: \" + str(degrees) + \" (pred)\\t\" + str(ys[i]*180/scipy.pi) + \" (actual)\")\n",
        "    cv2.imshow(\"frame\", cv2.cvtColor(full_image, cv2.COLOR_RGB2BGR))\n",
        "    #make smooth angle transitions by turning the steering wheel based on the difference of the current angle\n",
        "    #and the predicted angle\n",
        "    smoothed_angle += 0.2 * pow(abs((degrees - smoothed_angle)), 2.0 / 3.0) * (degrees - smoothed_angle) / abs(degrees - smoothed_angle)\n",
        "    M = cv2.getRotationMatrix2D((cols/2,rows/2),-smoothed_angle,1)\n",
        "    dst = cv2.warpAffine(img,M,(cols,rows))\n",
        "    cv2.imshow(\"steering wheel\", dst)\n",
        "    i += 1\n",
        "\n",
        "cv2.destroyAllWindows() "
      ],
      "execution_count": 0,
      "outputs": []
    }
  ]
}